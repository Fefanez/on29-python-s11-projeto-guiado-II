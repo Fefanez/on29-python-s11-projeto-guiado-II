{
  "nbformat": 4,
  "nbformat_minor": 0,
  "metadata": {
    "colab": {
      "provenance": [],
      "authorship_tag": "ABX9TyNY56+3/lNhphwYHjyEa1vk",
      "include_colab_link": true
    },
    "kernelspec": {
      "name": "python3",
      "display_name": "Python 3"
    },
    "language_info": {
      "name": "python"
    }
  },
  "cells": [
    {
      "cell_type": "markdown",
      "metadata": {
        "id": "view-in-github",
        "colab_type": "text"
      },
      "source": [
        "<a href=\"https://colab.research.google.com/github/Fefanez/on29-python-s11-projeto-guiado-II/blob/main/exercicio/para-casa/atividade_s11.ipynb\" target=\"_parent\"><img src=\"https://colab.research.google.com/assets/colab-badge.svg\" alt=\"Open In Colab\"/></a>"
      ]
    },
    {
      "cell_type": "markdown",
      "source": [
        "##**Projeto Guiado 2 - Semana 11**\n"
      ],
      "metadata": {
        "id": "Bgt4KeauxlgW"
      }
    },
    {
      "cell_type": "markdown",
      "source": [
        "Para a realização do Projeto 2, foram importadas as seguintes bibliotecas:\n",
        "- CSV\n",
        "- Sqlite3\n",
        "- Pandas\n",
        "- Matplotlib\n",
        "- Numpy (não utilizada no código)\n",
        "\n",
        "Além disso, foi utilizado o dataset 'movies.csv', com informações sobre cerca de 120 mil produções cinematográficas, tais como ano de lançamento, nota no IMDB, diretores, principais atores/atrizes e etc. A escolha foi feita com o objetivo de entender melhor como funciona o Internet Movie Database, visto que é um assunto de interesse pessoal.\n",
        "\n",
        "Sobre as análises, desenvolvidas com base nas informações visualizadas nos gráficos, temos que:\n",
        "\n",
        "GRÁFICO 1 - Top 30 estrelas mais frequentes: No gráfico, com os 30 atores e atrizes mais presentes em produções cinematográficas, vemos que o primeiro lugar, Mohanlal, ator indiano, participou de cerca de 175 filmes. O segundo lugar, Mammootty, também indiano, aparece em aproximadamente 150 produções, seguido pelo ator norte-americano Eric Roberts. A primeira atriz, Catherine Deneuve, aparece apenas na 11ª posição.\n",
        "\n",
        "GRÁFICO 2 - Média das classificações IMDB ao longo dos anos: No gráfico, podemos observar o filme com nota máxima no IMDB por ano. Até os anos 60, apenas um filme despontou com nota superior a 9,0. Filmes com nota superior a 9,5, entretanto, só surgem a partir da década de 80. Considerando que as notas do IMDB estão diretamente relacionadas à quantidade de votos, filmes com notas bastante altas aparecem no período de popularização do cinema, ou seja: mais pessoas têm acesso às obras e, consequentemente, acabam sendo evidenciadas na votação.\n",
        "\n",
        "GRÁFICO 3 - Diretores com mais filmes: O gráfico apresenta os nomes que mais dirigiram filmes ao longo dos anos. O diretor com mais filmes presentes na lista é Michael Curtiz, que assina por filmes clássicos como Casablanca e As Aventuras de Robin Hood. Na lista do top 10, não temos nenhuma diretora - mostrando que o mercado cinematográfico é predominantemente composto de homens.\n",
        "\n",
        "GRÁFICO 4 - Quantidade de filmes de Drama lançados por ano: No gráfico, temos a quantidade de filmes do gênero \"Drama\" lançado por ano. Podemos observar o pico de produção no ano de 2019. As produções têm uma baixa no ano de 2020, uma vez que entramos na pandemia da Covid-19. Apesar disso, mesmo durante esse período, as produções foram lançadas, ultrapassando 500 filmes em 2021 e 2022, e voltando a descrescer em 2023 - o que pode indicar um interesse ou mesmo maiores investimentos em outros gêneros cinematográficos.\n",
        "\n",
        "GRÁFICO 5 - Quantidade de filmes de Ação e Romance lançado por ano: Comparação entre filmes de Romance e Ação lançados por ano. A princípio, a maioria das produções eram do gênero Romance. Contudo, a partir dos anos 60, ou seja, no período Pós-Segunda Guerra Mundial, há uma crescente nas produções de ação, visto as mudanças significativas na própria sociedade. Próximo aos anos 2000, o gênero Romance volta a superar as produções de Ação, até aproximadamente 2010. A partir dessa data, os filmes de Ação voltam a liderar as produções entre esses dois gêneros. Um ponto interessante é que as produções tanto de Ação, quanto de Romance, empatam no ano de 2020. Entretanto, a partir daí os filmes de Ação voltam a ser mais produzidos."
      ],
      "metadata": {
        "id": "OmOou22rvG7I"
      }
    },
    {
      "cell_type": "markdown",
      "source": [
        "# **Código para ler o dataset escolhido, criar a tabela \"movies.db\" e inserir os dados no banco de dados.**\n",
        "\n"
      ],
      "metadata": {
        "id": "laaqMuU5v47g"
      }
    },
    {
      "cell_type": "code",
      "source": [
        "import csv\n",
        "import sqlite3"
      ],
      "metadata": {
        "id": "aqjlYsk1v2MK"
      },
      "execution_count": null,
      "outputs": []
    },
    {
      "cell_type": "code",
      "source": [
        "file = open('movies.csv', encoding= 'UTF-8')\n",
        "conteudo = csv.reader(file)\n",
        "conn = sqlite3.connect('movies.db')\n",
        "cursor = conn.cursor()"
      ],
      "metadata": {
        "id": "ZjkZz7YpwHor"
      },
      "execution_count": null,
      "outputs": []
    },
    {
      "cell_type": "code",
      "source": [
        "cursor.execute('''CREATE TABLE imdb_movies (\n",
        "    Movie_URL VARCHAR,\n",
        "    Title VARCHAR,\n",
        "    Poster BLOB,\n",
        "    Release_Year INTEGER,\n",
        "    Length_in_Min REAL,\n",
        "    IMDB_Rating REAL,\n",
        "    Rating_Count REAL,\n",
        "    Plot VARCHAR,\n",
        "    Directors VARCHAR,\n",
        "    Writers VARCHAR,\n",
        "    Stars VARCHAR,\n",
        "    Genres VARCHAR\n",
        ")''')\n",
        "\n",
        "\n"
      ],
      "metadata": {
        "id": "m-hmuO5ivKLc"
      },
      "execution_count": null,
      "outputs": []
    },
    {
      "cell_type": "code",
      "source": [
        "linha = \"INSERT INTO imdb_movies (Movie_URL, Title, Poster, Release_Year, Length_in_Min, IMDB_Rating, Rating_Count, Plot, Directors, Writers, Stars, Genres) VALUES (?, ?, ?, ?, ?, ?, ?, ?, ?, ?, ?, ?)\"\n"
      ],
      "metadata": {
        "id": "8e4spHwJwL4b"
      },
      "execution_count": null,
      "outputs": []
    },
    {
      "cell_type": "code",
      "source": [
        "cursor.executemany(linha, conteudo)\n"
      ],
      "metadata": {
        "id": "LngiTshOwMjO"
      },
      "execution_count": null,
      "outputs": []
    },
    {
      "cell_type": "code",
      "source": [
        "conn.commit()\n",
        "cursor.close()\n",
        "conn.close()"
      ],
      "metadata": {
        "id": "LGhlKmBhwNzg"
      },
      "execution_count": null,
      "outputs": []
    },
    {
      "cell_type": "markdown",
      "source": [
        "# **Código para analisar o database, filtrar dados e plotar no gráfico**"
      ],
      "metadata": {
        "id": "QSf6kmmZwRR_"
      }
    },
    {
      "cell_type": "code",
      "source": [
        "import pandas as pd\n",
        "import numpy as np\n",
        "import matplotlib.pyplot as plt"
      ],
      "metadata": {
        "id": "oHx_WxBOwomn"
      },
      "execution_count": null,
      "outputs": []
    },
    {
      "cell_type": "code",
      "source": [
        "df = pd.read_csv('movies.csv')"
      ],
      "metadata": {
        "id": "-z8eWMMbwpJE"
      },
      "execution_count": null,
      "outputs": []
    },
    {
      "cell_type": "code",
      "source": [
        "df = df.dropna()"
      ],
      "metadata": {
        "id": "qT7yI2Dnwqry"
      },
      "execution_count": null,
      "outputs": []
    },
    {
      "cell_type": "markdown",
      "source": [
        "No gráfico abaixo, com os 30 atores e atrizes mais presentes em produções cinematográficas, vemos que o primeiro lugar, Mohanlal, ator indiano, participou de cerca de 175 filmes. O segundo lugar, Mammootty, também indiano, aparece em aproximadamente 150 produções, seguido pelo ator norte-americano Eric Roberts. A primeira atriz, Catherine Deneuve, aparece apenas na 11ª posição."
      ],
      "metadata": {
        "id": "1Kusqx1Wwval"
      }
    },
    {
      "cell_type": "code",
      "source": [
        "df_exploded = df.assign(Stars=df['Stars'].str.split('|')).explode('Stars')\n",
        "stars_count = df_exploded['Stars'].value_counts()\n",
        "top_30_stars = stars_count.head(30)\n",
        "\n",
        "plt.figure(figsize=(12, 10))\n",
        "plt.barh(top_30_stars.index, top_30_stars.values, color='slateblue')\n",
        "plt.xlabel('Frequência')\n",
        "plt.title('Top 30 Estrelas Mais Frequentes')\n",
        "plt.gca().invert_yaxis()"
      ],
      "metadata": {
        "id": "C-MYN8Xqws1B"
      },
      "execution_count": null,
      "outputs": []
    },
    {
      "cell_type": "markdown",
      "source": [
        "No gráfico abaixo, podemos observar o filme com nota máxima no IMDB por ano. Até os anos 60, apenas um filme despontou com nota superior a 9,0. Filmes com nota superior a 9,5, entretanto, só surgem a partir da década de 80. Considerando que as notas do IMDB estão diretamente relacionadas à quantidade de votos, filmes com notas bastante altas aparecem no período de popularização do cinema, ou seja: mais pessoas têm acesso às obras e, consequentemente, acabam sendo evidenciadas na votação."
      ],
      "metadata": {
        "id": "hujX1RPQw07l"
      }
    },
    {
      "cell_type": "code",
      "source": [
        "df.groupby('Release Year')['IMDB Rating'].max().plot(kind='line', marker='o', figsize=(16,8), color= 'tomato')\n",
        "plt.title('Média das Classificações IMDB ao Longo dos Anos')\n",
        "plt.xlabel('Ano de Lançamento')\n",
        "plt.ylabel('Média de IMDB Rating')\n",
        "plt.grid(True)\n",
        "plt.show()"
      ],
      "metadata": {
        "id": "MPA6omtdw3jI"
      },
      "execution_count": null,
      "outputs": []
    },
    {
      "cell_type": "markdown",
      "source": [
        "Abaixo, o gráfico apresenta os nomes que mais dirigiram filmes ao longo dos anos. O diretor com mais filmes presentes na lista é Michael Curtiz, que assina por filmes clássicos como Casablanca e As Aventuras de Robin Hood. Na lista do top 10, não temos nenhuma diretora - mostrando que o mercado cinematográfico é predominantemente composto de homens."
      ],
      "metadata": {
        "id": "ZdtYUVp4w5tf"
      }
    },
    {
      "cell_type": "code",
      "source": [
        "directors_count = df['Directors'].value_counts()\n",
        "top_directors = directors_count.head(10)\n",
        "\n",
        "plt.figure(figsize=(12, 6))\n",
        "plt.barh(top_directors.index, top_directors.values, color='mediumaquamarine')\n",
        "plt.xlabel('Número de Filmes')\n",
        "plt.title('Diretores com Mais Filmes')\n",
        "plt.gca().invert_yaxis()\n",
        "plt.show()"
      ],
      "metadata": {
        "id": "sDtyxqa1w8IS"
      },
      "execution_count": null,
      "outputs": []
    },
    {
      "cell_type": "markdown",
      "source": [
        "No próximo gráfico, temos a quantidade de filmes do gênero \"Drama\" lançado por ano. Podemos observar o pico de produção no ano de 2019. As produções têm uma baixa no ano de 2020, uma vez que entramos na pandemia da Covid-19. Apesar disso, mesmo durante esse período, as produções foram lançadas, ultrapassando 500 filmes em 2021 e 2022, e voltando a descrescer em 2023 - o que pode indicar um interesse ou mesmo maiores investimentos em outros gêneros cinematográficos."
      ],
      "metadata": {
        "id": "_SiF36jsw9_Q"
      }
    },
    {
      "cell_type": "code",
      "source": [
        "df_drama = df.loc[df['Genres'] == 'Drama']\n",
        "df_drama = df_drama.dropna()\n",
        "df_drama_by_year = df_drama.groupby('Release Year').size().reset_index(name='Count')\n",
        "\n",
        "plt.figure(figsize=(18,9))\n",
        "plt.bar(df_drama_by_year['Release Year'], df_drama_by_year['Count'], color='silver')\n",
        "plt.title('Quantidade de Filmes de Drama Lançados por Ano')\n",
        "plt.xlabel('Ano de Lançamento')\n",
        "plt.ylabel('Quantidade de Filmes')\n",
        "plt.grid(True)\n"
      ],
      "metadata": {
        "id": "nIRKxYarxA0_"
      },
      "execution_count": null,
      "outputs": []
    },
    {
      "cell_type": "markdown",
      "source": [
        "Comparação entre filmes de Romance e Ação lançados por ano. A princípio, a maioria das produções eram do gênero Romance. Contudo, a partir dos anos 60, ou seja, no período Pós-Segunda Guerra Mundial, há uma crescente nas produções de ação, visto as mudanças significativas na própria sociedade. Próximo aos anos 2000, o gênero Romance volta a superar as produções de Ação, até aproximadamente 2010. A partir dessa data, os filmes de Ação voltam a liderar as produções entre esses dois gêneros. Um ponto interessante é que as produções tanto de Ação, quanto de Romance, empatam no ano de 2020. Entretanto, a partir daí os filmes de Ação voltam a ser mais produzidos."
      ],
      "metadata": {
        "id": "bbAArONLxCuH"
      }
    },
    {
      "cell_type": "code",
      "source": [
        "df_exploded = df.assign(Genres=df['Genres'].str.split('|')).explode('Genres')\n",
        "\n",
        "df_romance = df_exploded[df_exploded['Genres'] == 'Romance']\n",
        "df_action = df_exploded[df_exploded['Genres'] == 'Action']\n",
        "\n",
        "romance_by_year = df_drama.groupby('Release Year').size().reset_index(name='Romance Count')\n",
        "action_by_year = df_action.groupby('Release Year').size().reset_index(name='Action Count')\n",
        "\n",
        "combined = pd.merge(romance_by_year, action_by_year, on='Release Year', how='outer').fillna(0)\n",
        "combined.set_index('Release Year', inplace=True)\n",
        "\n",
        "plt.figure(figsize=(10, 6))\n",
        "plt.plot(combined.index, combined['Romance Count'], marker='o', linestyle='-', label='Romance')\n",
        "plt.plot(combined.index, combined['Action Count'], marker='o', linestyle='-', label='Ação')\n",
        "plt.title('Quantidade de Filmes de Romance e Ação Lançados por Ano')\n",
        "plt.xlabel('Ano de Lançamento')\n",
        "plt.ylabel('Quantidade de Filmes')\n",
        "plt.legend()\n",
        "plt.grid(True)\n",
        "plt.show()"
      ],
      "metadata": {
        "id": "KACvzrYlxFGv"
      },
      "execution_count": null,
      "outputs": []
    }
  ]
}